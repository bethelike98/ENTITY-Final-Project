{
 "cells": [
  {
   "cell_type": "markdown",
   "id": "bc30bb93",
   "metadata": {},
   "source": [
    "# Background\n",
    "The objective of this project is to classify the overall sentiment of a tweet's context as neutral, negative, or positive using NLP classifiers. To complete, this project, we are given a dataset of 27,481 tweets, where 22,464 of those tweets were captured as having either a neutral, negative, or positive sentiment. Our goal is to use this training data of ~27.5k tweets to predict the sentiment of the 3,534 tweets in our testing data set."
   ]
  },
  {
   "cell_type": "markdown",
   "id": "8d4b1ac4",
   "metadata": {},
   "source": [
    "# Objective\n",
    "Run Affin on testing set and see how accurate it is"
   ]
  },
  {
   "cell_type": "markdown",
   "id": "efe87eeb",
   "metadata": {},
   "source": [
    "## Importing Libraries"
   ]
  },
  {
   "cell_type": "code",
   "execution_count": 1,
   "id": "f3b18cb2",
   "metadata": {},
   "outputs": [],
   "source": [
    "from afinn import Afinn\n",
    "import re\n",
    "import numpy as np\n",
    "import pandas as pd"
   ]
  },
  {
   "cell_type": "markdown",
   "id": "e8ea65a3",
   "metadata": {},
   "source": [
    "## Read Testing Dataset"
   ]
  },
  {
   "cell_type": "code",
   "execution_count": 2,
   "id": "fb8fd7a8",
   "metadata": {},
   "outputs": [
    {
     "data": {
      "text/html": [
       "<div>\n",
       "<style scoped>\n",
       "    .dataframe tbody tr th:only-of-type {\n",
       "        vertical-align: middle;\n",
       "    }\n",
       "\n",
       "    .dataframe tbody tr th {\n",
       "        vertical-align: top;\n",
       "    }\n",
       "\n",
       "    .dataframe thead th {\n",
       "        text-align: right;\n",
       "    }\n",
       "</style>\n",
       "<table border=\"1\" class=\"dataframe\">\n",
       "  <thead>\n",
       "    <tr style=\"text-align: right;\">\n",
       "      <th></th>\n",
       "      <th>textID</th>\n",
       "      <th>text</th>\n",
       "      <th>sentiment</th>\n",
       "    </tr>\n",
       "  </thead>\n",
       "  <tbody>\n",
       "    <tr>\n",
       "      <th>0</th>\n",
       "      <td>f87dea47db</td>\n",
       "      <td>Last session of the day  http://twitpic.com/67ezh</td>\n",
       "      <td>neutral</td>\n",
       "    </tr>\n",
       "    <tr>\n",
       "      <th>1</th>\n",
       "      <td>96d74cb729</td>\n",
       "      <td>Shanghai is also really exciting (precisely -...</td>\n",
       "      <td>positive</td>\n",
       "    </tr>\n",
       "    <tr>\n",
       "      <th>2</th>\n",
       "      <td>eee518ae67</td>\n",
       "      <td>Recession hit Veronique Branquinho, she has to...</td>\n",
       "      <td>negative</td>\n",
       "    </tr>\n",
       "    <tr>\n",
       "      <th>3</th>\n",
       "      <td>01082688c6</td>\n",
       "      <td>happy bday!</td>\n",
       "      <td>positive</td>\n",
       "    </tr>\n",
       "    <tr>\n",
       "      <th>4</th>\n",
       "      <td>33987a8ee5</td>\n",
       "      <td>http://twitpic.com/4w75p - I like it!!</td>\n",
       "      <td>positive</td>\n",
       "    </tr>\n",
       "  </tbody>\n",
       "</table>\n",
       "</div>"
      ],
      "text/plain": [
       "       textID                                               text sentiment\n",
       "0  f87dea47db  Last session of the day  http://twitpic.com/67ezh   neutral\n",
       "1  96d74cb729   Shanghai is also really exciting (precisely -...  positive\n",
       "2  eee518ae67  Recession hit Veronique Branquinho, she has to...  negative\n",
       "3  01082688c6                                        happy bday!  positive\n",
       "4  33987a8ee5             http://twitpic.com/4w75p - I like it!!  positive"
      ]
     },
     "execution_count": 2,
     "metadata": {},
     "output_type": "execute_result"
    }
   ],
   "source": [
    "test = pd.read_csv(\"/Users/bethelikejiofor/Documents/GitHub/ENTITY-Final-Project/Data/test.csv\")\n",
    "test.head()"
   ]
  },
  {
   "cell_type": "code",
   "execution_count": 3,
   "id": "7e364246",
   "metadata": {},
   "outputs": [],
   "source": [
    "# Instantiate Affin\n",
    "afn = Afinn()"
   ]
  },
  {
   "cell_type": "markdown",
   "id": "4e892cb2",
   "metadata": {},
   "source": [
    "## Wrangling Dataset"
   ]
  },
  {
   "cell_type": "code",
   "execution_count": 4,
   "id": "a9ac2bed",
   "metadata": {},
   "outputs": [],
   "source": [
    "def removepunct(text):\n",
    "    text = re.sub(r'[^\\w\\s]', '', text)\n",
    "    return text"
   ]
  },
  {
   "cell_type": "code",
   "execution_count": 5,
   "id": "4e637f3a",
   "metadata": {},
   "outputs": [
    {
     "data": {
      "text/html": [
       "<div>\n",
       "<style scoped>\n",
       "    .dataframe tbody tr th:only-of-type {\n",
       "        vertical-align: middle;\n",
       "    }\n",
       "\n",
       "    .dataframe tbody tr th {\n",
       "        vertical-align: top;\n",
       "    }\n",
       "\n",
       "    .dataframe thead th {\n",
       "        text-align: right;\n",
       "    }\n",
       "</style>\n",
       "<table border=\"1\" class=\"dataframe\">\n",
       "  <thead>\n",
       "    <tr style=\"text-align: right;\">\n",
       "      <th></th>\n",
       "      <th>text</th>\n",
       "      <th>sentiment</th>\n",
       "      <th>text_clean</th>\n",
       "    </tr>\n",
       "  </thead>\n",
       "  <tbody>\n",
       "    <tr>\n",
       "      <th>0</th>\n",
       "      <td>last session of the day  http://twitpic.com/67ezh</td>\n",
       "      <td>neutral</td>\n",
       "      <td>last session of the day  httptwitpiccom67ezh</td>\n",
       "    </tr>\n",
       "    <tr>\n",
       "      <th>1</th>\n",
       "      <td>shanghai is also really exciting (precisely -...</td>\n",
       "      <td>positive</td>\n",
       "      <td>shanghai is also really exciting precisely  s...</td>\n",
       "    </tr>\n",
       "    <tr>\n",
       "      <th>2</th>\n",
       "      <td>recession hit veronique branquinho, she has to...</td>\n",
       "      <td>negative</td>\n",
       "      <td>recession hit veronique branquinho she has to ...</td>\n",
       "    </tr>\n",
       "    <tr>\n",
       "      <th>3</th>\n",
       "      <td>happy bday!</td>\n",
       "      <td>positive</td>\n",
       "      <td>happy bday</td>\n",
       "    </tr>\n",
       "    <tr>\n",
       "      <th>4</th>\n",
       "      <td>http://twitpic.com/4w75p - i like it!!</td>\n",
       "      <td>positive</td>\n",
       "      <td>httptwitpiccom4w75p  i like it</td>\n",
       "    </tr>\n",
       "  </tbody>\n",
       "</table>\n",
       "</div>"
      ],
      "text/plain": [
       "                                                text sentiment  \\\n",
       "0  last session of the day  http://twitpic.com/67ezh   neutral   \n",
       "1   shanghai is also really exciting (precisely -...  positive   \n",
       "2  recession hit veronique branquinho, she has to...  negative   \n",
       "3                                        happy bday!  positive   \n",
       "4             http://twitpic.com/4w75p - i like it!!  positive   \n",
       "\n",
       "                                          text_clean  \n",
       "0       last session of the day  httptwitpiccom67ezh  \n",
       "1   shanghai is also really exciting precisely  s...  \n",
       "2  recession hit veronique branquinho she has to ...  \n",
       "3                                         happy bday  \n",
       "4                     httptwitpiccom4w75p  i like it  "
      ]
     },
     "execution_count": 5,
     "metadata": {},
     "output_type": "execute_result"
    }
   ],
   "source": [
    "test = test[['text', 'sentiment']]\n",
    "test['text'] = test.text.astype(str).str.lower()\n",
    "test['text_clean'] = test['text'].apply(removepunct)\n",
    "test.head()"
   ]
  },
  {
   "cell_type": "markdown",
   "id": "70d9ca02",
   "metadata": {},
   "source": [
    "## Affin Sentiment Analysis"
   ]
  },
  {
   "cell_type": "code",
   "execution_count": 8,
   "id": "468fe9ac",
   "metadata": {},
   "outputs": [],
   "source": [
    "def sentiment_analyzer(text):\n",
    "    \n",
    "    #compute scores (polarity) and labels\n",
    "    score = afn.score(text)\n",
    "    if score > 0:\n",
    "        return 'positive'\n",
    "    if score < 0:\n",
    "        return 'negative'\n",
    "    if score == 0:\n",
    "        return 'neutral'"
   ]
  },
  {
   "cell_type": "code",
   "execution_count": 9,
   "id": "1fac4a3d",
   "metadata": {},
   "outputs": [],
   "source": [
    "test['sentiment_pred'] = test['text_clean'].apply(sentiment_analyzer)"
   ]
  },
  {
   "cell_type": "code",
   "execution_count": 11,
   "id": "4f6bccfd",
   "metadata": {},
   "outputs": [
    {
     "name": "stdout",
     "output_type": "stream",
     "text": [
      "Positive accuracy:  84.49682683590208 %\n"
     ]
    }
   ],
   "source": [
    "pos = len(test[test['sentiment']=='positive'])\n",
    "pos1 = len(test[(test['sentiment']=='positive') & (test['sentiment_pred']=='positive')])\n",
    "print('Positive accuracy: ',pos1/pos*100,'%' )"
   ]
  },
  {
   "cell_type": "code",
   "execution_count": 12,
   "id": "b33a1a10",
   "metadata": {},
   "outputs": [
    {
     "name": "stdout",
     "output_type": "stream",
     "text": [
      "Negative accuracy:  62.437562437562434 %\n"
     ]
    }
   ],
   "source": [
    "neg = len(test[test['sentiment']=='negative'])\n",
    "neg1 = len(test[(test['sentiment']=='negative') & (test['sentiment_pred']=='negative')])\n",
    "print('Negative accuracy: ',neg1/neg*100,'%' )"
   ]
  },
  {
   "cell_type": "code",
   "execution_count": 13,
   "id": "3dd725e5",
   "metadata": {},
   "outputs": [
    {
     "name": "stdout",
     "output_type": "stream",
     "text": [
      "Neutral accuracy:  54.05594405594406 %\n"
     ]
    }
   ],
   "source": [
    "neu = len(test[test['sentiment']=='neutral'])\n",
    "neu1 = len(test[(test['sentiment']=='neutral') & (test['sentiment_pred']=='neutral')])\n",
    "print('Neutral accuracy: ',neu1/neu*100,'%' )"
   ]
  },
  {
   "cell_type": "code",
   "execution_count": null,
   "id": "b2af44ca",
   "metadata": {},
   "outputs": [],
   "source": []
  }
 ],
 "metadata": {
  "kernelspec": {
   "display_name": "Python 3 (ipykernel)",
   "language": "python",
   "name": "python3"
  },
  "language_info": {
   "codemirror_mode": {
    "name": "ipython",
    "version": 3
   },
   "file_extension": ".py",
   "mimetype": "text/x-python",
   "name": "python",
   "nbconvert_exporter": "python",
   "pygments_lexer": "ipython3",
   "version": "3.9.10"
  }
 },
 "nbformat": 4,
 "nbformat_minor": 5
}
